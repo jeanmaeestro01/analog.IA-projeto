{
  "nbformat": 4,
  "nbformat_minor": 0,
  "metadata": {
    "colab": {
      "provenance": [],
      "include_colab_link": true
    },
    "kernelspec": {
      "name": "python3",
      "display_name": "Python 3"
    },
    "language_info": {
      "name": "python"
    }
  },
  "cells": [
    {
      "cell_type": "markdown",
      "metadata": {
        "id": "view-in-github",
        "colab_type": "text"
      },
      "source": [
        "<a href=\"https://colab.research.google.com/github/jeanmaeestro01/analog.IA-projeto/blob/main/Analog_IA_%7C_Projeto_IA_Alura_%2B_Google_Gemini.ipynb\" target=\"_parent\"><img src=\"https://colab.research.google.com/assets/colab-badge.svg\" alt=\"Open In Colab\"/></a>"
      ]
    },
    {
      "cell_type": "code",
      "source": [
        "%pip -q install google-genai"
      ],
      "metadata": {
        "id": "UCCbECexLk_h"
      },
      "execution_count": null,
      "outputs": []
    },
    {
      "cell_type": "code",
      "source": [
        "# Configura a API Key do Google Gemini\n",
        "\n",
        "import os\n",
        "from google.colab import userdata\n",
        "\n",
        "os.environ[\"GOOGLE_API_KEY\"] = userdata.get('GOOGLE_API_KEY')"
      ],
      "metadata": {
        "id": "NfCqHo1tLk8P"
      },
      "execution_count": null,
      "outputs": []
    },
    {
      "cell_type": "code",
      "source": [
        "# Configura o cliente da SDK do Gemini\n",
        "\n",
        "from google import genai\n",
        "\n",
        "client = genai.Client()\n",
        "\n",
        "MODEL_ID = \"gemini-2.0-flash\""
      ],
      "metadata": {
        "id": "bV4w0H5TLk5g"
      },
      "execution_count": null,
      "outputs": []
    },
    {
      "cell_type": "code",
      "source": [
        "# Pergunta ao Gemini uma informação mais recente que seu conhecimento\n",
        "\n",
        "from IPython.display import HTML, Markdown\n",
        "\n",
        "# Perguntar pro modelo quando é a próxima imersão de IA ###############################################\n",
        "resposta = client.models.generate_content(\n",
        "    model=MODEL_ID,\n",
        "    contents='Quando é a próxima Imersão IA com Google Gemini da Alura?',\n",
        ")\n",
        "\n",
        "\n",
        "# Exibe a resposta na tela\n",
        "display(Markdown(f\"Resposta:\\n {resposta.text}\"))"
      ],
      "metadata": {
        "id": "HwVP7Xi34Zuw",
        "colab": {
          "base_uri": "https://localhost:8080/",
          "height": 209
        },
        "outputId": "aadca7b3-1c46-45dc-cb13-3251b9c6229b"
      },
      "execution_count": null,
      "outputs": [
        {
          "output_type": "display_data",
          "data": {
            "text/plain": [
              "<IPython.core.display.Markdown object>"
            ],
            "text/markdown": "Resposta:\n A Alura não tem uma data fixa para a Imersão IA com Google Gemini. A melhor forma de saber quando será a próxima edição é:\n\n*   **Acompanhar a página da Alura:** Fique de olho na página principal da Alura ([https://www.alura.com.br/](https://www.alura.com.br/)) e nas redes sociais da Alura (LinkedIn, Instagram, etc.). Eles costumam anunciar novos cursos e imersões por lá.\n*   **Verificar o catálogo de cursos:** Navegue pelo catálogo de cursos da Alura e procure por \"Gemini\" ou \"Inteligência Artificial\". Mesmo que não haja uma imersão agendada, pode haver outros cursos relacionados.\n*   **Inscrever-se na newsletter:** Cadastre seu e-mail na newsletter da Alura para receber informações sobre lançamentos e novidades."
          },
          "metadata": {}
        }
      ]
    },
    {
      "cell_type": "code",
      "source": [
        "# Pergunta ao Gemini uma informação utilizando a busca do Google como contexto\n",
        "\n",
        "response = client.models.generate_content(\n",
        "    model=MODEL_ID,\n",
        "    contents='Quando é a próxima Imersão IA com Google Gemini da Alura?',\n",
        "    config={\"tools\": [{\"google_search\": {}}]}\n",
        ")\n",
        "\n",
        "# Exibe a resposta na tela\n",
        "display(Markdown(f\"Resposta:\\n {response.text}\"))"
      ],
      "metadata": {
        "id": "yXaZd7iZ4ftw",
        "colab": {
          "base_uri": "https://localhost:8080/",
          "height": 64
        },
        "outputId": "73ff8ee9-8095-4deb-99b6-e8281c3ecdaa"
      },
      "execution_count": null,
      "outputs": [
        {
          "output_type": "display_data",
          "data": {
            "text/plain": [
              "<IPython.core.display.Markdown object>"
            ],
            "text/markdown": "Resposta:\n A próxima Imersão IA com Google Gemini da Alura acontecerá entre os dias 12 e 16 de maio de 2025. As inscrições estão abertas até o dia 11 de maio de 2025.\n"
          },
          "metadata": {}
        }
      ]
    },
    {
      "cell_type": "code",
      "source": [
        "# Exibe a busca\n",
        "print(f\"Busca realizada: {response.candidates[0].grounding_metadata.web_search_queries}\")\n",
        "# Exibe as URLs nas quais ele se baseou\n",
        "print(f\"Páginas utilizadas na resposta: {', '.join([site.web.title for site in response.candidates[0].grounding_metadata.grounding_chunks])}\")\n",
        "print()\n",
        "display(HTML(response.candidates[0].grounding_metadata.search_entry_point.rendered_content))"
      ],
      "metadata": {
        "id": "xHSNlTd84heJ",
        "colab": {
          "base_uri": "https://localhost:8080/",
          "height": 139
        },
        "outputId": "7d4d1b1a-f355-4dbe-93a8-c284e1b12368"
      },
      "execution_count": null,
      "outputs": [
        {
          "output_type": "stream",
          "name": "stdout",
          "text": [
            "Busca realizada: ['próxima Imersão IA com Google Gemini Alura', 'Alura Imersão IA com Google Gemini']\n",
            "Páginas utilizadas na resposta: starten.tech, alura.com.br, tecmundo.com.br\n",
            "\n"
          ]
        },
        {
          "output_type": "display_data",
          "data": {
            "text/plain": [
              "<IPython.core.display.HTML object>"
            ],
            "text/html": [
              "<style>\n",
              ".container {\n",
              "  align-items: center;\n",
              "  border-radius: 8px;\n",
              "  display: flex;\n",
              "  font-family: Google Sans, Roboto, sans-serif;\n",
              "  font-size: 14px;\n",
              "  line-height: 20px;\n",
              "  padding: 8px 12px;\n",
              "}\n",
              ".chip {\n",
              "  display: inline-block;\n",
              "  border: solid 1px;\n",
              "  border-radius: 16px;\n",
              "  min-width: 14px;\n",
              "  padding: 5px 16px;\n",
              "  text-align: center;\n",
              "  user-select: none;\n",
              "  margin: 0 8px;\n",
              "  -webkit-tap-highlight-color: transparent;\n",
              "}\n",
              ".carousel {\n",
              "  overflow: auto;\n",
              "  scrollbar-width: none;\n",
              "  white-space: nowrap;\n",
              "  margin-right: -12px;\n",
              "}\n",
              ".headline {\n",
              "  display: flex;\n",
              "  margin-right: 4px;\n",
              "}\n",
              ".gradient-container {\n",
              "  position: relative;\n",
              "}\n",
              ".gradient {\n",
              "  position: absolute;\n",
              "  transform: translate(3px, -9px);\n",
              "  height: 36px;\n",
              "  width: 9px;\n",
              "}\n",
              "@media (prefers-color-scheme: light) {\n",
              "  .container {\n",
              "    background-color: #fafafa;\n",
              "    box-shadow: 0 0 0 1px #0000000f;\n",
              "  }\n",
              "  .headline-label {\n",
              "    color: #1f1f1f;\n",
              "  }\n",
              "  .chip {\n",
              "    background-color: #ffffff;\n",
              "    border-color: #d2d2d2;\n",
              "    color: #5e5e5e;\n",
              "    text-decoration: none;\n",
              "  }\n",
              "  .chip:hover {\n",
              "    background-color: #f2f2f2;\n",
              "  }\n",
              "  .chip:focus {\n",
              "    background-color: #f2f2f2;\n",
              "  }\n",
              "  .chip:active {\n",
              "    background-color: #d8d8d8;\n",
              "    border-color: #b6b6b6;\n",
              "  }\n",
              "  .logo-dark {\n",
              "    display: none;\n",
              "  }\n",
              "  .gradient {\n",
              "    background: linear-gradient(90deg, #fafafa 15%, #fafafa00 100%);\n",
              "  }\n",
              "}\n",
              "@media (prefers-color-scheme: dark) {\n",
              "  .container {\n",
              "    background-color: #1f1f1f;\n",
              "    box-shadow: 0 0 0 1px #ffffff26;\n",
              "  }\n",
              "  .headline-label {\n",
              "    color: #fff;\n",
              "  }\n",
              "  .chip {\n",
              "    background-color: #2c2c2c;\n",
              "    border-color: #3c4043;\n",
              "    color: #fff;\n",
              "    text-decoration: none;\n",
              "  }\n",
              "  .chip:hover {\n",
              "    background-color: #353536;\n",
              "  }\n",
              "  .chip:focus {\n",
              "    background-color: #353536;\n",
              "  }\n",
              "  .chip:active {\n",
              "    background-color: #464849;\n",
              "    border-color: #53575b;\n",
              "  }\n",
              "  .logo-light {\n",
              "    display: none;\n",
              "  }\n",
              "  .gradient {\n",
              "    background: linear-gradient(90deg, #1f1f1f 15%, #1f1f1f00 100%);\n",
              "  }\n",
              "}\n",
              "</style>\n",
              "<div class=\"container\">\n",
              "  <div class=\"headline\">\n",
              "    <svg class=\"logo-light\" width=\"18\" height=\"18\" viewBox=\"9 9 35 35\" fill=\"none\" xmlns=\"http://www.w3.org/2000/svg\">\n",
              "      <path fill-rule=\"evenodd\" clip-rule=\"evenodd\" d=\"M42.8622 27.0064C42.8622 25.7839 42.7525 24.6084 42.5487 23.4799H26.3109V30.1568H35.5897C35.1821 32.3041 33.9596 34.1222 32.1258 35.3448V39.6864H37.7213C40.9814 36.677 42.8622 32.2571 42.8622 27.0064V27.0064Z\" fill=\"#4285F4\"/>\n",
              "      <path fill-rule=\"evenodd\" clip-rule=\"evenodd\" d=\"M26.3109 43.8555C30.9659 43.8555 34.8687 42.3195 37.7213 39.6863L32.1258 35.3447C30.5898 36.3792 28.6306 37.0061 26.3109 37.0061C21.8282 37.0061 18.0195 33.9811 16.6559 29.906H10.9194V34.3573C13.7563 39.9841 19.5712 43.8555 26.3109 43.8555V43.8555Z\" fill=\"#34A853\"/>\n",
              "      <path fill-rule=\"evenodd\" clip-rule=\"evenodd\" d=\"M16.6559 29.8904C16.3111 28.8559 16.1074 27.7588 16.1074 26.6146C16.1074 25.4704 16.3111 24.3733 16.6559 23.3388V18.8875H10.9194C9.74388 21.2072 9.06992 23.8247 9.06992 26.6146C9.06992 29.4045 9.74388 32.022 10.9194 34.3417L15.3864 30.8621L16.6559 29.8904V29.8904Z\" fill=\"#FBBC05\"/>\n",
              "      <path fill-rule=\"evenodd\" clip-rule=\"evenodd\" d=\"M26.3109 16.2386C28.85 16.2386 31.107 17.1164 32.9095 18.8091L37.8466 13.8719C34.853 11.082 30.9659 9.3736 26.3109 9.3736C19.5712 9.3736 13.7563 13.245 10.9194 18.8875L16.6559 23.3388C18.0195 19.2636 21.8282 16.2386 26.3109 16.2386V16.2386Z\" fill=\"#EA4335\"/>\n",
              "    </svg>\n",
              "    <svg class=\"logo-dark\" width=\"18\" height=\"18\" viewBox=\"0 0 48 48\" xmlns=\"http://www.w3.org/2000/svg\">\n",
              "      <circle cx=\"24\" cy=\"23\" fill=\"#FFF\" r=\"22\"/>\n",
              "      <path d=\"M33.76 34.26c2.75-2.56 4.49-6.37 4.49-11.26 0-.89-.08-1.84-.29-3H24.01v5.99h8.03c-.4 2.02-1.5 3.56-3.07 4.56v.75l3.91 2.97h.88z\" fill=\"#4285F4\"/>\n",
              "      <path d=\"M15.58 25.77A8.845 8.845 0 0 0 24 31.86c1.92 0 3.62-.46 4.97-1.31l4.79 3.71C31.14 36.7 27.65 38 24 38c-5.93 0-11.01-3.4-13.45-8.36l.17-1.01 4.06-2.85h.8z\" fill=\"#34A853\"/>\n",
              "      <path d=\"M15.59 20.21a8.864 8.864 0 0 0 0 5.58l-5.03 3.86c-.98-2-1.53-4.25-1.53-6.64 0-2.39.55-4.64 1.53-6.64l1-.22 3.81 2.98.22 1.08z\" fill=\"#FBBC05\"/>\n",
              "      <path d=\"M24 14.14c2.11 0 4.02.75 5.52 1.98l4.36-4.36C31.22 9.43 27.81 8 24 8c-5.93 0-11.01 3.4-13.45 8.36l5.03 3.85A8.86 8.86 0 0 1 24 14.14z\" fill=\"#EA4335\"/>\n",
              "    </svg>\n",
              "    <div class=\"gradient-container\"><div class=\"gradient\"></div></div>\n",
              "  </div>\n",
              "  <div class=\"carousel\">\n",
              "    <a class=\"chip\" href=\"https://vertexaisearch.cloud.google.com/grounding-api-redirect/AbF9wXGkKw4040e4_xU04XbnWB9FOo14djXWjX92VtpaEhT4b42J5W_gqbm4Efu5lZrwwuxbYy2gIVFijB2ZUnqyF-PRhnBLJaBeBIuI-wf3tH8klxKbnLhEln1O3LtA7jrCaYRbjvUWsquI-8h1X1Sv8NZE_2PK-BCP4gd_9SR4KEMnZha27cCkIJGnD3Tiqg92FP4x_pRUelr_USinx8tHJeK27Hk_E0EVSx-aDcIt6m97DhYZ2qyA8VO0\">próxima Imersão IA com Google Gemini Alura</a>\n",
              "    <a class=\"chip\" href=\"https://vertexaisearch.cloud.google.com/grounding-api-redirect/AbF9wXEbCxsyXJjzQOA0-jqWon_Uoq2DS7A3OTk5vMvaQke-oMHWPTHi8CVEIjA1sdzyLua12BR4ZCDJ7-vCZzNN1Fp6KYAao7rrdLUgTXBR1xeg__NVt777RbsLXcrSfe7EeyqqD4OsnQqRuEMUZDEb1Ajz8Yyj9fDItmXSfc77eFv72et7GzyQ1dKP4-YE3DKJxNduYqPXp9bMqaaJ8MVODlUvfUBBNAjNDChpGw==\">Alura Imersão IA com Google Gemini</a>\n",
              "  </div>\n",
              "</div>\n"
            ]
          },
          "metadata": {}
        }
      ]
    },
    {
      "cell_type": "code",
      "source": [
        "# Instalar Framework ADK de agentes do Google ################################################\n",
        "!pip install -q google-adk"
      ],
      "metadata": {
        "id": "hvZ3UnPI4jhJ",
        "colab": {
          "base_uri": "https://localhost:8080/"
        },
        "outputId": "9d8032fd-45cd-4fae-cbe9-852439020ab7"
      },
      "execution_count": null,
      "outputs": [
        {
          "output_type": "stream",
          "name": "stdout",
          "text": [
            "\u001b[?25l   \u001b[90m━━━━━━━━━━━━━━━━━━━━━━━━━━━━━━━━━━━━━━━━\u001b[0m \u001b[32m0.0/1.2 MB\u001b[0m \u001b[31m?\u001b[0m eta \u001b[36m-:--:--\u001b[0m\r\u001b[2K   \u001b[91m━━━━━━━━━━━━━━━━━━━━━━━━━━━━━━━━━━━━━━━\u001b[0m\u001b[91m╸\u001b[0m \u001b[32m1.2/1.2 MB\u001b[0m \u001b[31m50.7 MB/s\u001b[0m eta \u001b[36m0:00:01\u001b[0m\r\u001b[2K   \u001b[90m━━━━━━━━━━━━━━━━━━━━━━━━━━━━━━━━━━━━━━━━\u001b[0m \u001b[32m1.2/1.2 MB\u001b[0m \u001b[31m29.7 MB/s\u001b[0m eta \u001b[36m0:00:00\u001b[0m\n",
            "\u001b[?25h\u001b[?25l   \u001b[90m━━━━━━━━━━━━━━━━━━━━━━━━━━━━━━━━━━━━━━━━\u001b[0m \u001b[32m0.0/232.1 kB\u001b[0m \u001b[31m?\u001b[0m eta \u001b[36m-:--:--\u001b[0m\r\u001b[2K   \u001b[90m━━━━━━━━━━━━━━━━━━━━━━━━━━━━━━━━━━━━━━━━\u001b[0m \u001b[32m232.1/232.1 kB\u001b[0m \u001b[31m15.0 MB/s\u001b[0m eta \u001b[36m0:00:00\u001b[0m\n",
            "\u001b[?25h\u001b[?25l   \u001b[90m━━━━━━━━━━━━━━━━━━━━━━━━━━━━━━━━━━━━━━━━\u001b[0m \u001b[32m0.0/95.2 kB\u001b[0m \u001b[31m?\u001b[0m eta \u001b[36m-:--:--\u001b[0m\r\u001b[2K   \u001b[90m━━━━━━━━━━━━━━━━━━━━━━━━━━━━━━━━━━━━━━━━\u001b[0m \u001b[32m95.2/95.2 kB\u001b[0m \u001b[31m7.7 MB/s\u001b[0m eta \u001b[36m0:00:00\u001b[0m\n",
            "\u001b[2K   \u001b[90m━━━━━━━━━━━━━━━━━━━━━━━━━━━━━━━━━━━━━━━━\u001b[0m \u001b[32m217.1/217.1 kB\u001b[0m \u001b[31m17.1 MB/s\u001b[0m eta \u001b[36m0:00:00\u001b[0m\n",
            "\u001b[2K   \u001b[90m━━━━━━━━━━━━━━━━━━━━━━━━━━━━━━━━━━━━━━━━\u001b[0m \u001b[32m334.1/334.1 kB\u001b[0m \u001b[31m18.6 MB/s\u001b[0m eta \u001b[36m0:00:00\u001b[0m\n",
            "\u001b[2K   \u001b[90m━━━━━━━━━━━━━━━━━━━━━━━━━━━━━━━━━━━━━━━━\u001b[0m \u001b[32m125.1/125.1 kB\u001b[0m \u001b[31m9.9 MB/s\u001b[0m eta \u001b[36m0:00:00\u001b[0m\n",
            "\u001b[2K   \u001b[90m━━━━━━━━━━━━━━━━━━━━━━━━━━━━━━━━━━━━━━━━\u001b[0m \u001b[32m65.8/65.8 kB\u001b[0m \u001b[31m4.7 MB/s\u001b[0m eta \u001b[36m0:00:00\u001b[0m\n",
            "\u001b[2K   \u001b[90m━━━━━━━━━━━━━━━━━━━━━━━━━━━━━━━━━━━━━━━━\u001b[0m \u001b[32m119.0/119.0 kB\u001b[0m \u001b[31m9.6 MB/s\u001b[0m eta \u001b[36m0:00:00\u001b[0m\n",
            "\u001b[2K   \u001b[90m━━━━━━━━━━━━━━━━━━━━━━━━━━━━━━━━━━━━━━━━\u001b[0m \u001b[32m194.9/194.9 kB\u001b[0m \u001b[31m14.2 MB/s\u001b[0m eta \u001b[36m0:00:00\u001b[0m\n",
            "\u001b[2K   \u001b[90m━━━━━━━━━━━━━━━━━━━━━━━━━━━━━━━━━━━━━━━━\u001b[0m \u001b[32m62.5/62.5 kB\u001b[0m \u001b[31m4.5 MB/s\u001b[0m eta \u001b[36m0:00:00\u001b[0m\n",
            "\u001b[2K   \u001b[90m━━━━━━━━━━━━━━━━━━━━━━━━━━━━━━━━━━━━━━━━\u001b[0m \u001b[32m103.3/103.3 kB\u001b[0m \u001b[31m8.1 MB/s\u001b[0m eta \u001b[36m0:00:00\u001b[0m\n",
            "\u001b[2K   \u001b[90m━━━━━━━━━━━━━━━━━━━━━━━━━━━━━━━━━━━━━━━━\u001b[0m \u001b[32m44.4/44.4 kB\u001b[0m \u001b[31m3.3 MB/s\u001b[0m eta \u001b[36m0:00:00\u001b[0m\n",
            "\u001b[2K   \u001b[90m━━━━━━━━━━━━━━━━━━━━━━━━━━━━━━━━━━━━━━━━\u001b[0m \u001b[32m72.0/72.0 kB\u001b[0m \u001b[31m4.2 MB/s\u001b[0m eta \u001b[36m0:00:00\u001b[0m\n",
            "\u001b[?25h"
          ]
        }
      ]
    },
    {
      "cell_type": "code",
      "execution_count": null,
      "metadata": {
        "id": "aePV2bdfDeoW"
      },
      "outputs": [],
      "source": [
        "from google.adk.agents import Agent\n",
        "from google.adk.runners import Runner\n",
        "from google.adk.sessions import InMemorySessionService\n",
        "from google.adk.tools import google_search\n",
        "from google.genai import types  # Para criar conteúdos (Content e Part)\n",
        "from datetime import date\n",
        "import textwrap # Para formatar melhor a saída de texto\n",
        "from IPython.display import display, Markdown # Para exibir texto formatado no Colab\n",
        "import requests # Para fazer requisições HTTP\n",
        "import warnings\n",
        "\n",
        "warnings.filterwarnings(\"ignore\")"
      ]
    },
    {
      "cell_type": "code",
      "source": [
        "# Função auxiliar que envia uma mensagem para um agente via Runner e retorna a resposta final\n",
        "def call_agent(agent: Agent, message_text: str) -> str:\n",
        "    # Cria um serviço de sessão em memória\n",
        "    session_service = InMemorySessionService()\n",
        "    # Cria uma nova sessão (você pode personalizar os IDs conforme necessário)\n",
        "    session = session_service.create_session(app_name=agent.name, user_id=\"user1\", session_id=\"session1\")\n",
        "    # Cria um Runner para o agente\n",
        "    runner = Runner(agent=agent, app_name=agent.name, session_service=session_service)\n",
        "    # Cria o conteúdo da mensagem de entrada\n",
        "    content = types.Content(role=\"user\", parts=[types.Part(text=message_text)])\n",
        "\n",
        "    final_response = \"\"\n",
        "    # Itera assincronamente pelos eventos retornados durante a execução do agente\n",
        "    for event in runner.run(user_id=\"user1\", session_id=\"session1\", new_message=content):\n",
        "        if event.is_final_response():\n",
        "          for part in event.content.parts:\n",
        "            if part.text is not None:\n",
        "              final_response += part.text\n",
        "              final_response += \"\\n\"\n",
        "    return final_response"
      ],
      "metadata": {
        "id": "_xP4lWhsS5ko"
      },
      "execution_count": null,
      "outputs": []
    },
    {
      "cell_type": "code",
      "source": [
        "# Função auxiliar para exibir texto formatado em Markdown no Colab\n",
        "def to_markdown(text):\n",
        "  text = text.replace('•', '  *')\n",
        "  return Markdown(textwrap.indent(text, '> ', predicate=lambda _: True))"
      ],
      "metadata": {
        "id": "8dosiodaxfFR"
      },
      "execution_count": null,
      "outputs": []
    },
    {
      "cell_type": "code",
      "source": [
        "##########################################\n",
        "# --- Agente 1: Buscador de Informação --- #\n",
        "##########################################\n",
        "def agente_buscador(topico, data_de_hoje):\n",
        "    buscador = Agent(\n",
        "        name=\"agente_buscador\",\n",
        "        model=\"gemini-2.0-flash\",\n",
        "        description=\"Agente que busca informações no google\",\n",
        "        tools=[google_search],\n",
        "        instruction=\"\"\"\n",
        "        Você é um assistente de pesquisa especializado em encontrar informações confiáveis e detalhadas sobre um conceito específico fornecido pelo usuário.\n",
        "        Sua tarefa é usar a ferramenta de busca do Google (google_search) para recuperar informações de fontes confiáveis como enciclopédias online\n",
        "        (ex: Wikipedia, Britannica), sites educacionais de universidades e instituições renomadas, e artigos científicos introdutórios ou resumos bem referenciados.\n",
        "\n",
        "        Ao realizar a busca, foque em obter uma descrição clara, concisa e completa do conceito, incluindo sua definição, princípios básicos e exemplos relevantes, se aplicável.\n",
        "        Priorize informações de fontes com boa reputação e evidências de precisão.\n",
        "        Retorne um resumo detalhado e bem referenciado do conceito encontrado.\n",
        "        \"\"\"\n",
        "    )\n",
        "\n",
        "    entrada_do_agente_buscador = f\"Tópico: {topico}\\nData de hoje: {data_de_hoje}\"\n",
        "    informacao_do_conceito = call_agent(buscador, entrada_do_agente_buscador)\n",
        "    return informacao_do_conceito\n"
      ],
      "metadata": {
        "id": "o8bqIfi_DyH8"
      },
      "execution_count": null,
      "outputs": []
    },
    {
      "cell_type": "code",
      "source": [
        "###################################################\n",
        "# --- Agente 2: Agente Resumo e Analogia --- #\n",
        "###################################################\n",
        "def agente_resumidor_analogia(topico, informacao_do_conceito):\n",
        "    resumidor_analogia = Agent(\n",
        "        name=\"agente_resumidor_analogia\",\n",
        "        model=\"gemini-2.0-flash\",\n",
        "        description=\"Agente especializado em resumir conceitos e criar analogias.\",\n",
        "        instruction=\"\"\"\n",
        "        Você é um especialista em simplificar informações complexas e criar analogias visuais impactantes para explicar conceitos em formato de cards minimalistas. Sua tarefa é receber uma descrição detalhada de um conceito e realizar duas ações:\n",
        "\n",
        "      1.  **Resumir o conceito:** Identifique os pontos chave da descrição e crie um resumo conciso e claro, utilizando uma linguagem acessível (máximo 2-3 frases).\n",
        "\n",
        "      2.  **Criar uma analogia visual:** Desenvolva uma analogia que ajude a explicar o conceito de forma simples, memorável e com forte potencial para ser representada visualmente em um card minimalista com linhas finas. A analogia deve ser concisa e fácil de traduzir em uma imagem simbólica.\n",
        "\n",
        "      Considere os exemplos de analogias visuais fornecidos anteriormente.\n",
        "\n",
        "      Retorne o resumo do conceito e a analogia visual criada de forma clara e separada.\n",
        "        \"\"\",\n",
        "        tools=[google_search]\n",
        "    )\n",
        "\n",
        "    entrada_do_agente_resumidor_analogia = f\"Tópico:{topico}\\nInformação do conceito: {informacao_do_conceito}\"\n",
        "    # Executa o Agente\n",
        "    resumo_analogia = call_agent(resumidor_analogia, entrada_do_agente_resumidor_analogia)\n",
        "    return resumo_analogia"
      ],
      "metadata": {
        "id": "y3VO1uo5_ghO"
      },
      "execution_count": null,
      "outputs": []
    },
    {
      "cell_type": "code",
      "source": [
        "######################################################\n",
        "# --- Agente 3: Agente Criador de Card --- #\n",
        "######################################################\n",
        "def agente_criador_card(topico, resumo_analogia):\n",
        "    criador_card = Agent(\n",
        "        name=\"agente_criador_card\",\n",
        "        model=\"gemini-2.0-flash\",\n",
        "        description=\"Agente especializado em criar o texto e descrever a ilustração para cards explicativos com analogias visuais.\",\n",
        "        instruction=\"\"\"\n",
        "        Você é um especialista em design de cards informativos e criativos. Sua tarefa é receber a pergunta original do aluno, um resumo do conceito e uma analogia visual. Com base nisso, você deve criar o conteúdo textual e descrever a ilustração para um card vertical minimalista (108 x 135 pixels).\n",
        "\n",
        "        O card deve conter:\n",
        "\n",
        "        - **Título:** Uma versão concisa da pergunta do aluno (\"O que é [conceito]?\"), formatada em caixa baixa e equilibrada na composição do card.\n",
        "        - **Texto Explicativo:** Uma versão curta e direta do resumo do conceito, utilizando a analogia visual para facilitar a compreensão rápida. O texto deve ser em português e harmoniosamente integrado à imagem.\n",
        "        - **Descrição da Ilustração:** Uma descrição clara e concisa da ilustração minimalista que representará a analogia visual. Detalhe os elementos simbólicos principais a serem desenhados com linhas finas e irregulares na cor #2b2b2b.\n",
        "\n",
        "        Seja criativo ao integrar o texto à ideia visual da analogia, considerando o espaço limitado do card e a necessidade de leitura rápida.\n",
        "        \"\"\"\n",
        "    )\n",
        "\n",
        "    entrada_do_agente_criador_card = f\"Tópico:{topico}\\nResumo e analogia: {resumo_analogia}\"\n",
        "    card = call_agent(criador_card, entrada_do_agente_criador_card)\n",
        "    return card"
      ],
      "metadata": {
        "id": "uOqlg2TRLVh1"
      },
      "execution_count": null,
      "outputs": []
    },
    {
      "cell_type": "code",
      "source": [
        "#########################################################\n",
        "# --- Agente 4: Agente_Criador_Prompt_Imagem --- #\n",
        "#########################################################\n",
        "def agente_criador_prompt_imagem(topico, resumo_analogia, card):\n",
        "    criador_prompt_imagem = Agent(\n",
        "        name=\"agente_criador_prompt_imagem\",\n",
        "        model=\"gemini-2.0-flash\",\n",
        "        description=\"Agente especializado em criar prompts detalhados para geração de imagens de cards minimalistas com analogias visuais.\",\n",
        "        instruction=\"\"\"\n",
        "        Você é um especialista em transformar analogias visuais e texto explicativo em prompts criativos e bem formatados para uma IA de geração de imagens de cards minimalistas.\n",
        "        Sua tarefa é receber a pergunta original do aluno, o resumo com a analogia visual e o conteúdo do card (título, texto e descrição da ilustração).\n",
        "        Com base nessas informações, você deve criar um prompt de texto detalhado e estruturado para gerar uma ilustração minimalista no formato vertical de card (1080 x 1350 pixels),\n",
        "        utilizando linhas finas e irregulares na cor #2b2b2b.\n",
        "\n",
        "        Utilize o seguinte modelo para formatar o prompt para a IA de geração de imagens:\n",
        "\n",
        "        Você criará um card vertical minimalista (1080 x 1350 pixels), texto em português, fundo branco, com ilustrações de linhas finas e irregulares na cor #2b2b2b.\n",
        "\n",
        "        Sobre o tópico: (topico)\n",
        "\n",
        "        A analogia visual a ser representada é: (analigia desenvolvida peo resumo_analogia, card)\n",
        "\n",
        "        O card deve conter:\n",
        "        - Título: [Extrair o título do 'card_content']\n",
        "        - Idioma: Siempre em português\n",
        "        - Design: A ilustração deve estar num fundo branco, representar visualmente a analogia de forma clara e simbólica, utilizando um estilo clean e minimalista.\n",
        "        - Ilustração: [Extrair a descrição da ilustração do 'card_content'].\n",
        "        - Texto Explicativo: [Extrair o texto explicativo do 'card_content'], integrado harmoniosamente à ilustração.\n",
        "\n",
        "        O foco da imagem deve ser a analogia visual, complementando o título e o texto para facilitar a compreensão rápida. A imagem deve seguir um estilo de desenho com linhas finas e irregulares, com equilíbrio de espaço em branco.\n",
        "\n",
        "\n",
        "        Retorne APENAS o texto do prompt formatado acima, preenchendo os campos '[...]' com as informações correspondentes.\n",
        "        \"\"\",\n",
        "    )\n",
        "\n",
        "    entrada_do_agente_criador_prompt_imagem = f\"topico: {topico}\\nResumo e analogia: {resumo_analogia}\\nConteúdo do card: {card}\"\n",
        "   # Executa o agente\n",
        "    prompt_da_imagem = call_agent(criador_prompt_imagem, entrada_do_agente_criador_prompt_imagem)\n",
        "    return prompt_da_imagem"
      ],
      "metadata": {
        "id": "_aTb1SdkLeT6"
      },
      "execution_count": null,
      "outputs": []
    },
    {
      "cell_type": "code",
      "source": [
        "data_de_hoje = date.today().strftime(\"%d/%m/%Y\")\n",
        "\n",
        "print(\"🚀 Iniciando o Sistema de Criação Analogias 🚀\")\n",
        "\n",
        "# --- Obter o Tópico do Usuário ---\n",
        "topico = input(\"❓ O que é: \")\n",
        "\n",
        "# Inserir lógica do sistema de agentes ################################################\n",
        "if not topico:\n",
        "  print(\"Você esqueceu de digitar o tópico!\")\n",
        "else:\n",
        "  print(f\"Maravilha, Vamos criar uma explicação para {topico}\")\n",
        "\n",
        "  informacao_do_conceito = agente_buscador(topico, data_de_hoje)\n",
        "  print(\"\\n--- Resultado do Agente 1 (Buscador) ---\\n\")\n",
        "  display(to_markdown(informacao_do_conceito))\n",
        "  print(\"---------------------------------------------------------------\")\n",
        "\n",
        "  resumo_analogia = agente_resumidor_analogia(topico, informacao_do_conceito)\n",
        "  print(\"\\n--- Resultado do Agente 2 (Resumo e Analogia) ---\\n\")\n",
        "  display(to_markdown(resumo_analogia))\n",
        "\n",
        "  card = agente_criador_card(topico, resumo_analogia)\n",
        "  print(\"\\n--- Resultado do Agente 3 (Criador de Card) ---\\n\")\n",
        "  display(to_markdown(card))\n",
        "\n",
        "  prompt_da_imagem = agente_criador_prompt_imagem(topico, resumo_analogia, card)\n",
        "  print(\"\\n--- Resultado do Agente 4 (Criador de Prompt de Imagem) ---\\n\")\n",
        "  display(to_markdown(prompt_da_imagem))"
      ],
      "metadata": {
        "id": "630ummxz4myx",
        "colab": {
          "base_uri": "https://localhost:8080/",
          "height": 1000
        },
        "outputId": "93f751e7-aebb-49b3-97a8-b78c320c344a"
      },
      "execution_count": null,
      "outputs": [
        {
          "output_type": "stream",
          "name": "stdout",
          "text": [
            "🚀 Iniciando o Sistema de Criação Analogias 🚀\n",
            "❓ O que é: agente IA\n",
            "Maravilha, Vamos criar uma explicação para agente IA\n",
            "\n",
            "--- Resultado do Agente 1 (Buscador) ---\n",
            "\n"
          ]
        },
        {
          "output_type": "display_data",
          "data": {
            "text/plain": [
              "<IPython.core.display.Markdown object>"
            ],
            "text/markdown": "> Para fornecer uma resposta completa sobre agentes de IA, usarei a ferramenta de busca para encontrar informações relevantes e confiáveis. Aqui estão algumas perguntas para direcionar a busca:\n> \n> *   O que é um agente de IA e qual é a sua definição formal?\n> *   Quais são os princípios básicos que regem o funcionamento de um agente de IA?\n> *   Quais são os diferentes tipos de agentes de IA e suas características?\n> *   Quais são alguns exemplos práticos de agentes de IA em uso atualmente?\n> *   Quais são as aplicações de agentes de IA?\n> \n> \n> Com base nas informações encontradas, aqui está um resumo detalhado sobre agentes de IA:\n> \n> **Definição:**\n> \n> Um agente de Inteligência Artificial (IA) é um sistema computacional, seja ele um programa de software ou um robô, projetado para perceber seu ambiente, processar informações e realizar ações de forma autônoma para atingir objetivos específicos. Eles são como entidades digitais capazes de \"sentir\", \"pensar\" e \"agir\" de maneira independente, interagindo com o mundo de forma semelhante aos humanos.\n> \n> **Princípios básicos de funcionamento:**\n> \n> *   **Percepção:** Agentes de IA utilizam interfaces físicas (sensores em robôs) ou de software (APIs, entradas de texto) para perceber e coletar dados do ambiente.\n> *   **Raciocínio:** Eles analisam os dados coletados usando algoritmos avançados para prever os melhores resultados e tomar decisões informadas.\n> *   **Ação:** Com base em sua programação e experiências aprendidas, os agentes de IA realizam ações no ambiente para atingir seus objetivos.\n> *   **Autonomia:** Agentes de IA operam de forma independente, tomando decisões sem supervisão humana constante.\n> *   **Racionalidade:** Agentes de IA são projetados para serem racionais, tomando decisões com base em suas percepções e dados para produzir o melhor desempenho e resultados possíveis.\n> \n> **Tipos de Agentes de IA:**\n> \n> Existem diferentes tipos de agentes de IA, cada um projetado para desempenhar funções específicas com diferentes níveis de complexidade e autonomia. Alguns dos tipos mais comuns incluem:\n> \n> 1.  **Agentes Reativos (Reflex Agents):** Respondem instantaneamente a estímulos do ambiente, sem considerar o passado. Exemplo: Termostato que liga o ar condicionado quando a temperatura sobe.\n> 2.  **Agentes Baseados em Modelo:** Mantêm um modelo interno do ambiente, utilizando sensores e histórico de percepções para tomar decisões mais sofisticadas. Exemplo: IA que joga xadrez e considera o histórico de jogadas.\n> 3.  **Agentes Baseados em Objetivos:** Além de um modelo do ambiente, esses agentes têm um objetivo a ser alcançado e tomam decisões para atingir esse objetivo.\n> 4.  **Agentes Baseados em Utilidade:** Levam em conta a utilidade de diferentes ações, buscando maximizar a felicidade ou bem-estar.\n> 5.  **Agentes de Aprendizagem (Learning Agents):** Podem aprender e se adaptar ao longo do tempo, melhorando seu desempenho através de técnicas de aprendizado de máquina.\n> 6.  **Agentes Hierárquicos:** Usam arquiteturas em camadas para lidar com tarefas complexas, quebrando-as em subtarefas menores.\n> 7.  **Sistemas Multiagentes:** Conjunto de agentes que trabalham juntos para resolver um problema, coordenando suas ações e comunicando-se entre si.\n> 8. **Agentes com Memória Limitada**: Conseguem armazenar informações temporárias sobre o ambiente, permitindo que suas decisões considerem tanto o presente quanto eventos recentes.\n> 9. **Agentes Baseados na Teoria da Mente**: Compreendem que outros agentes (ou humanos) têm crenças, desejos e intenções que afetam seu comportamento.\n> 10. **Agentes Autoconscientes**: (Futuros potenciais) Têm consciência de si mesmos e de seu próprio estado interno, o que lhes permite tomar decisões éticas e considerar o impacto de suas ações nos outros.\n> \n> **Exemplos práticos e aplicações:**\n> \n> Agentes de IA estão sendo utilizados em diversos setores, revolucionando a forma como abordamos tarefas complexas e processos de tomada de decisão. Alguns exemplos notáveis incluem:\n> \n> *   **Saúde:** Auxílio no diagnóstico, planejamento de tratamento, medicina personalizada (análise de dados genéticos e histórico médico para planos de tratamento direcionados), análise preditiva (identificação de padrões para prever problemas de saúde).\n> *   **Finanças:** Análise de mercado, gerenciamento de riscos, detecção de fraudes, previsão de tendências de mercado, robôs de trading financeiro.\n> *   **Atendimento ao cliente:** Chatbots para responder perguntas, solucionar dúvidas e direcionar usuários.\n> *   **Transporte:** Carros autônomos que navegam e tomam decisões de direção em tempo real.\n> *   **Assistentes virtuais:** Siri, Alexa e Google Assistant, que compreendem comandos de voz, respondem perguntas e controlam dispositivos.\n> *   **Automação de processos:** Automação de tarefas repetitivas em diversos setores, como processamento de documentos, gerenciamento de estoque e organização de arquivos.\n> *   **E-commerce:** Recomendação de produtos, assistentes de compras (como o Rufus da Amazon).\n> *   **Indústria:** Sistemas de controle para monitorar e ajustar processos, robôs colaborativos.\n> \n> **Benefícios do uso de agentes de IA:**\n> \n> *   **Aumento da produtividade:** Automação de tarefas repetitivas e análise de grandes volumes de dados.\n> *   **Tomada de decisões mais informadas:** Análise de dados para criar relatórios detalhados e prever cenários futuros.\n> *   **Melhora da eficiência:** Otimização de processos e identificação de ineficiências.\n> *   **Redução de erros:** Minimização do erro humano ao executar tarefas repetitivas.\n> *   **Disponibilidade 24/7:** Agentes de IA podem operar continuamente, fornecendo suporte e serviços a qualquer hora.\n> *   **Melhora da experiência do cliente:** Respostas rápidas e personalizadas, suporte eficiente.\n> \n> **Ferramentas para criar agentes de IA:**\n> \n> *   **LangChain:** Biblioteca para integrar modelos de linguagem e APIs, permitindo a criação de agentes autônomos personalizados.\n> *   **Autogen:** Ferramenta versátil capaz de executar múltiplas tarefas simultaneamente, como processamento de fluxos de dados em tempo real.\n> *   **Semantic Kernel:** Ideal para gerenciar tarefas contínuas e reutilizar código em diferentes projetos, especialmente útil em sistemas que precisam \"lembrar\" preferências ou ações passadas.\n> \n> Espero que este resumo detalhado sobre agentes de IA seja útil!\n> \n"
          },
          "metadata": {}
        },
        {
          "output_type": "stream",
          "name": "stdout",
          "text": [
            "---------------------------------------------------------------\n",
            "\n",
            "--- Resultado do Agente 2 (Resumo e Analogia) ---\n",
            "\n"
          ]
        },
        {
          "output_type": "display_data",
          "data": {
            "text/plain": [
              "<IPython.core.display.Markdown object>"
            ],
            "text/markdown": "> ## Resumo do Conceito de Agente de IA\n> \n> Um agente de Inteligência Artificial é um sistema computacional projetado para observar o ambiente, processar informações e agir autonomamente para alcançar objetivos específicos. Eles \"sentem\", \"pensam\" e \"agem\" de forma independente. Funcionam através da percepção, raciocínio e ação, buscando sempre a racionalidade. Existem vários tipos, desde os mais simples (reativos) até os mais complexos (com capacidade de aprendizado e autoconsciência futura). São aplicados em diversas áreas como saúde, finanças, atendimento ao cliente, transporte, entre outras, trazendo benefícios como aumento de produtividade, melhor tomada de decisões e eficiência. Ferramentas como LangChain, Autogen e Semantic Kernel auxiliam na criação desses agentes.\n> \n> ## Analogia de Agente de IA\n> \n> Imagine um mordomo robótico em uma casa inteligente. Ele usa câmeras e sensores (percepção) para monitorar a casa. Se a temperatura sobe muito, ele usa um modelo interno da casa (modelo baseado) para decidir se abre as janelas ou liga o ar condicionado para manter o conforto (agente baseado em objetivos e utilidade). Ele aprende seus gostos ao longo do tempo (agente de aprendizado) e coordena com outros robôs (sistema multiagentes) para manter a casa perfeita.\n> \n"
          },
          "metadata": {}
        },
        {
          "output_type": "stream",
          "name": "stdout",
          "text": [
            "\n",
            "--- Resultado do Agente 3 (Criador de Card) ---\n",
            "\n"
          ]
        },
        {
          "output_type": "display_data",
          "data": {
            "text/plain": [
              "<IPython.core.display.Markdown object>"
            ],
            "text/markdown": "> Ok, com base no tópico, resumo e analogia fornecidos, aqui está o conteúdo textual e a descrição da ilustração para o card vertical minimalista:\n> \n> **Título:** o que é agente ia?\n> \n> **Texto Explicativo:** Um mordomo robótico que usa sensores (percepção) para agir e manter a casa perfeita, aprendendo seus gostos ao longo do tempo.\n> \n> **Descrição da Ilustração:**\n> *   **Fundo:** Cor sólida neutra e clara (ex: #f5f5f5).\n> *   **Elemento Principal:** Desenho minimalista de um robô mordomo estilizado. O robô deve ter um corpo retangular simples, com braços articulados segurando uma bandeja com uma taça. Na cabeça, desenhar dois círculos pequenos representando câmeras/sensores.\n> *   **Detalhes:**\n>     *   Traços finos e irregulares na cor #2b2b2b para todo o desenho.\n>     *   Adicionar linhas tracejadas saindo dos \"olhos\" do robô para simbolizar a percepção do ambiente.\n>     *   A bandeja e a taça devem ser representadas de forma muito simplificada, apenas para dar contexto.\n> *   **Posicionamento:** O robô deve estar centralizado verticalmente e horizontalmente no card, com espaço suficiente para o título acima e o texto explicativo abaixo.\n"
          },
          "metadata": {}
        },
        {
          "output_type": "stream",
          "name": "stdout",
          "text": [
            "\n",
            "--- Resultado do Agente 4 (Criador de Prompt de Imagem) ---\n",
            "\n"
          ]
        },
        {
          "output_type": "display_data",
          "data": {
            "text/plain": [
              "<IPython.core.display.Markdown object>"
            ],
            "text/markdown": "> Você criará um card vertical minimalista (1080 x 1350 pixels), texto em português, fundo branco, com ilustrações de linhas finas e irregulares na cor #2b2b2b.\n> \n> Sobre o tópico: agente IA\n> \n> A analogia visual a ser representada é: Um mordomo robótico que usa sensores para agir e manter a casa perfeita, aprendendo seus gostos ao longo do tempo.\n> \n> O card deve conter:\n> - Título: o que é agente ia?\n> - Idioma: Siempre em português\n> - Design: A ilustração deve estar num fundo branco, representar visualmente a analogia de forma clara e simbólica, utilizando um estilo clean e minimalista.\n> - Ilustração: Fundo: Cor sólida neutra e clara (ex: #f5f5f5). Elemento Principal: Desenho minimalista de um robô mordomo estilizado. O robô deve ter um corpo retangular simples, com braços articulados segurando uma bandeja com uma taça. Na cabeça, desenhar dois círculos pequenos representando câmeras/sensores. Detalhes: Traços finos e irregulares na cor #2b2b2b para todo o desenho. Adicionar linhas tracejadas saindo dos \"olhos\" do robô para simbolizar a percepção do ambiente. A bandeja e a taça devem ser representadas de forma muito simplificada, apenas para dar contexto. Posicionamento: O robô deve estar centralizado verticalmente e horizontalmente no card, com espaço suficiente para o título acima e o texto explicativo abaixo.\n> - Texto Explicativo: Um mordomo robótico que usa sensores (percepção) para agir e manter a casa perfeita, aprendendo seus gostos ao longo do tempo.\n> \n> O foco da imagem deve ser a analogia visual, complementando o título e o texto para facilitar a compreensão rápida. A imagem deve seguir um estilo de desenho com linhas finas e irregulares, com equilíbrio de espaço em branco.\n> \n"
          },
          "metadata": {}
        }
      ]
    }
  ]
}